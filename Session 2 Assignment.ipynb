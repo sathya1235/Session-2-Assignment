{
 "cells": [
  {
   "cell_type": "code",
   "execution_count": 1,
   "metadata": {},
   "outputs": [],
   "source": [
    "# Write a program which accepts a sequence of comma-separated numbers from console and generate a list"
   ]
  },
  {
   "cell_type": "code",
   "execution_count": 7,
   "metadata": {},
   "outputs": [
    {
     "name": "stdout",
     "output_type": "stream",
     "text": [
      "Enter comma-separated numbers: 1,2,3,4546,75\n",
      "Generated List is : ['1', '2', '3', '4546', '75']\n"
     ]
    }
   ],
   "source": [
    "seq=input(\"Enter comma-separated numbers: \")\n",
    "genList=list(seq.split(','))    # separates the sequence by ',' and converted to list\n",
    "print(\"Generated List is : {}\".format(genList))"
   ]
  },
  {
   "cell_type": "code",
   "execution_count": 4,
   "metadata": {},
   "outputs": [],
   "source": [
    "#  Create the below pattern using nested for loop in Python.   \n",
    " #  *\n",
    " #  * *\n",
    " #  * * *\n",
    " #  * * * *\n",
    " #  * * * * *\n",
    " #  * * * *\n",
    " #  * * *\n",
    " #  * *\n",
    " #  * "
   ]
  },
  {
   "cell_type": "code",
   "execution_count": 28,
   "metadata": {},
   "outputs": [
    {
     "name": "stdout",
     "output_type": "stream",
     "text": [
      "\r\n",
      "* \r\n",
      "* * \r\n",
      "* * * \r\n",
      "* * * * \r\n",
      "* * * * * \r\n",
      "* * * * \r\n",
      "* * * \r\n",
      "* * \r\n",
      "* \r\n"
     ]
    }
   ],
   "source": [
    "# Generates star pattern based on 'n'\n",
    "def genstar(n): \n",
    "    for i in range(n):\n",
    "        for j in range(i):\n",
    "            print ('* ', end=\"\") # end=\"\" to print  * in same line\n",
    "        print(\"\\r\") # carriage return- ending line after each row \n",
    "\n",
    "    for i in range(n,0,-1):\n",
    "        for j in range(i):\n",
    "            print('* ', end=\"\") # end=\"\" to print  * in same line\n",
    "        print(\"\\r\") # carriage return- ending line after each row \n",
    "        \n",
    "n = 5     #length of stars\n",
    "genstar(n) "
   ]
  },
  {
   "cell_type": "code",
   "execution_count": 24,
   "metadata": {},
   "outputs": [],
   "source": [
    "# Write a Python program to reverse a word after accepting the input from the user.\n",
    "#Sample Output:  \n",
    "#Input word: AcadGild  \n",
    "#Output: dilGdacA   "
   ]
  },
  {
   "cell_type": "code",
   "execution_count": 29,
   "metadata": {},
   "outputs": [
    {
     "name": "stdout",
     "output_type": "stream",
     "text": [
      "Please enter a Word : Acadgild\n",
      "Word in Reverse order : dligdacA\n"
     ]
    }
   ],
   "source": [
    "usrWord= input(\"Please enter a Word : \")\n",
    "print(\"Word in Reverse order : {}\".format(usrWord[::-1]))"
   ]
  },
  {
   "cell_type": "code",
   "execution_count": null,
   "metadata": {},
   "outputs": [],
   "source": [
    "# Write a Python Program to print the given string in the format specified in the sample output.  \n",
    "# WE, THE PEOPLE OF INDIA, having solemnly resolved to constitute India into a SOVEREIGN, \n",
    "# SOCIALIST, SECULAR, DEMOCRATIC REPUBLIC and to secure to all its citizens \n",
    "# Sample output:\n",
    "# WE, THE PEOPLE OF INDIA,\n",
    "#       having solemnly resolved to constitute India into a SOVEREIGN, !\n",
    "#             SOCIALIST, SECULAR, DEMOCRATIC REPUBLIC \n",
    "#              and to secure to all its citizens   "
   ]
  },
  {
   "cell_type": "code",
   "execution_count": 1,
   "metadata": {},
   "outputs": [
    {
     "name": "stdout",
     "output_type": "stream",
     "text": [
      "WE,THE PEOPLE OF INDIA,\n",
      "      having solemnly resolved to constitute India into a SOVEREIGN, !\n",
      "             SOCIALIST, SECULAR, DEMOCRATIC REPUBLIC             \n",
      "                and to secure to all its citizens                \n"
     ]
    }
   ],
   "source": [
    "str1=\"WE,THE PEOPLE OF INDIA,\"\n",
    "str2=\"having solemnly resolved to constitute India into a SOVEREIGN, !\"\n",
    "str3=\"SOCIALIST, SECULAR, DEMOCRATIC REPUBLIC\"\n",
    "str4=\"and to secure to all its citizens\"\n",
    "print(str1)\n",
    "print(str2.rjust(70)) #right justifies by 70\n",
    "print(str3.center(65)) # Center align by 65\n",
    "print(str4.center(65)) # Center algign by 65"
   ]
  },
  {
   "cell_type": "code",
   "execution_count": null,
   "metadata": {},
   "outputs": [],
   "source": []
  }
 ],
 "metadata": {
  "kernelspec": {
   "display_name": "Python 3",
   "language": "python",
   "name": "python3"
  },
  "language_info": {
   "codemirror_mode": {
    "name": "ipython",
    "version": 3
   },
   "file_extension": ".py",
   "mimetype": "text/x-python",
   "name": "python",
   "nbconvert_exporter": "python",
   "pygments_lexer": "ipython3",
   "version": "3.7.0"
  }
 },
 "nbformat": 4,
 "nbformat_minor": 2
}
